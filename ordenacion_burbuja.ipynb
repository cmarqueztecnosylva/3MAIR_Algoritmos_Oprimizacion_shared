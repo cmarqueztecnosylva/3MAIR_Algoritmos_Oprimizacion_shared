{
  "nbformat": 4,
  "nbformat_minor": 0,
  "metadata": {
    "colab": {
      "name": "ordenacion_burbuja.ipynb",
      "provenance": [],
      "collapsed_sections": [],
      "authorship_tag": "ABX9TyM7xc3Rt1a8bxNfqGpP/W2T",
      "include_colab_link": true
    },
    "kernelspec": {
      "name": "python3",
      "display_name": "Python 3"
    }
  },
  "cells": [
    {
      "cell_type": "markdown",
      "metadata": {
        "id": "view-in-github",
        "colab_type": "text"
      },
      "source": [
        "<a href=\"https://colab.research.google.com/github/cmarqueztecnosylva/3MAIR_Algoritmos_Oprimizacion_shared/blob/main/ordenacion_burbuja.ipynb\" target=\"_parent\"><img src=\"https://colab.research.google.com/assets/colab-badge.svg\" alt=\"Open In Colab\"/></a>"
      ]
    },
    {
      "cell_type": "code",
      "metadata": {
        "colab": {
          "base_uri": "https://localhost:8080/"
        },
        "id": "dzPfN6BW2A2E",
        "outputId": "d7e2c626-f096-400c-8b01-89a69bf7c62d"
      },
      "source": [
        "import numpy as np\r\n",
        "\r\n",
        "\r\n",
        "my_iterations = 1\r\n",
        "my_changes = 0\r\n",
        "#my_list = [6,7,3,1]\r\n",
        "my_list = np.random.randint(1, 100, size=(100), dtype=int)\r\n",
        "\r\n",
        "print('Lista de entrada:')\r\n",
        "print(my_list)\r\n",
        "\r\n",
        "was_interchange = True\r\n",
        "\r\n",
        "while was_interchange != False:\r\n",
        "  was_interchange = False\r\n",
        "  for i in range(1, len(my_list)):\r\n",
        "    if my_list[i-1] > my_list[i]:\r\n",
        "      aux = my_list[i]\r\n",
        "      my_list[i] = my_list[i - 1]\r\n",
        "      my_list[i - 1] = aux\r\n",
        "      was_interchange = True\r\n",
        "      my_changes = my_changes + 1\r\n",
        "    #End if\r\n",
        "  #End for\r\n",
        "  my_iterations = my_iterations + 1\r\n",
        "#End while\r\n",
        "\r\n",
        "print('')\r\n",
        "print('Lista de salida:')\r\n",
        "print(my_list)\r\n",
        "print('En ',my_iterations,' iteraciones')\r\n",
        "print('En ',my_changes,' intercambios')"
      ],
      "execution_count": null,
      "outputs": [
        {
          "output_type": "stream",
          "text": [
            "Lista de entrada:\n",
            "[46 23 67 52 54  6 67 97 27 45 22 44 92 45 53 84 82 77 57 28 85  7 12 43\n",
            " 20 29 50 64 57 28  5 84 79 92 34 99 67 18 27 86 60 40  2 53 86 85 82 76\n",
            " 67 49 82 12 29 58 71 78 25 75 37 93 23 62 32 58 29 37 61 59 26 30 48 22\n",
            " 34 84 22 92 27 81 23 28 19 41 39 87  6 39 85 15 63 10  4 33 15 13  1 28\n",
            " 43  5 27 76]\n",
            "\n",
            "Lista de salida:\n",
            "[ 1  2  4  5  5  6  6  7 10 12 12 13 15 15 18 19 20 22 22 22 23 23 23 25\n",
            " 26 27 27 27 27 28 28 28 28 29 29 29 30 32 33 34 34 37 37 39 39 40 41 43\n",
            " 43 44 45 45 46 48 49 50 52 53 53 54 57 57 58 58 59 60 61 62 63 64 67 67\n",
            " 67 67 71 75 76 76 77 78 79 81 82 82 82 84 84 84 85 85 85 86 86 87 92 92\n",
            " 92 93 97 99]\n",
            "En  96  iteraciones\n",
            "En  2832  intercambios\n"
          ],
          "name": "stdout"
        }
      ]
    }
  ]
}